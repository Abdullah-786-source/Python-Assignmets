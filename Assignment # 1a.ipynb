{
 "cells": [
  {
   "cell_type": "code",
   "execution_count": 4,
   "metadata": {},
   "outputs": [
    {
     "name": "stdout",
     "output_type": "stream",
     "text": [
      "Twinkle, twinkle, little star,\n",
      "      How I wonder what you are!\n",
      "          Up above the world so high,\n",
      "          Like a diamond in the sky.\n",
      "Twinkle, twinkle, little star,\n",
      "      How I wonder what you are!\n"
     ]
    }
   ],
   "source": [
    "# Printing string in a specefic format\n",
    "space = \"     \"\n",
    "print (\"Twinkle, twinkle, little star,\")\n",
    "print (space, \"How I wonder what you are!\")\n",
    "print (((space) *2) + \"Up above the world so high,\")\n",
    "print (((space) *2) + \"Like a diamond in the sky.\")\n",
    "print (\"Twinkle, twinkle, little star,\")\n",
    "print (space, \"How I wonder what you are!\")\n"
   ]
  },
  {
   "cell_type": "code",
   "execution_count": 2,
   "metadata": {},
   "outputs": [
    {
     "name": "stdout",
     "output_type": "stream",
     "text": [
      "3.7.4 (default, Aug  9 2019, 18:34:13) [MSC v.1915 64 bit (AMD64)]\n"
     ]
    }
   ],
   "source": [
    "# Printing current version of Python\n",
    "import sys\n",
    "print(sys.version)"
   ]
  },
  {
   "cell_type": "code",
   "execution_count": 10,
   "metadata": {},
   "outputs": [
    {
     "name": "stdout",
     "output_type": "stream",
     "text": [
      "2019-11-03 20:57:26.070699\n"
     ]
    }
   ],
   "source": [
    "# Printing current date and time\n",
    "import datetime\n",
    "now = datetime.datetime.now()\n",
    "print(now)"
   ]
  },
  {
   "cell_type": "code",
   "execution_count": 12,
   "metadata": {},
   "outputs": [
    {
     "name": "stdout",
     "output_type": "stream",
     "text": [
      "Enter a Radius.11\n",
      "radis is  379.94\n"
     ]
    }
   ],
   "source": [
    "# calcuating Area of circle\n",
    "pi = 3.14\n",
    "r = float(input (\"Enter a Radius.\"))\n",
    "a = pi * (r ** 2)\n",
    "print (\"radis is \", a)"
   ]
  },
  {
   "cell_type": "code",
   "execution_count": 14,
   "metadata": {},
   "outputs": [
    {
     "name": "stdout",
     "output_type": "stream",
     "text": [
      "Enter First Name: abdullah\n",
      "Enter Last Name: ali\n",
      "ali abdullah\n"
     ]
    }
   ],
   "source": [
    "# printing first name and last name in reverse order\n",
    "firstname = input (\"Enter First Name: \")\n",
    "lastname = input (\"Enter Last Name: \")\n",
    "print (lastname + \" \" + firstname)"
   ]
  },
  {
   "cell_type": "code",
   "execution_count": 16,
   "metadata": {},
   "outputs": [
    {
     "name": "stdout",
     "output_type": "stream",
     "text": [
      "Enter first number: 1\n",
      "Enter second number: 2\n",
      "3\n"
     ]
    }
   ],
   "source": [
    "# Addition of two inputs\n",
    "a = int(input (\"Enter first number: \"))\n",
    "b = int (input (\"Enter second number: \"))\n",
    "result = a + b\n",
    "print (result)"
   ]
  },
  {
   "cell_type": "code",
   "execution_count": 18,
   "metadata": {},
   "outputs": [
    {
     "name": "stdout",
     "output_type": "stream",
     "text": [
      "1\n"
     ]
    }
   ],
   "source": [
    "print (22%3)"
   ]
  },
  {
   "cell_type": "code",
   "execution_count": null,
   "metadata": {},
   "outputs": [],
   "source": []
  }
 ],
 "metadata": {
  "kernelspec": {
   "display_name": "Python 3",
   "language": "python",
   "name": "python3"
  },
  "language_info": {
   "codemirror_mode": {
    "name": "ipython",
    "version": 3
   },
   "file_extension": ".py",
   "mimetype": "text/x-python",
   "name": "python",
   "nbconvert_exporter": "python",
   "pygments_lexer": "ipython3",
   "version": "3.7.4"
  }
 },
 "nbformat": 4,
 "nbformat_minor": 2
}
