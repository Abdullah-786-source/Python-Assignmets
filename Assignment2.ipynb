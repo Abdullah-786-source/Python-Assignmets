{
 "cells": [
  {
   "cell_type": "code",
   "execution_count": 20,
   "metadata": {},
   "outputs": [
    {
     "name": "stdout",
     "output_type": "stream",
     "text": [
      "~ Online Python Course Marks Sheet ~\n",
      "Please Insert Marks out of 100 \n",
      "Enter English Subject Marks 89\n",
      "Enter Urdu Subject Marks 98\n",
      "Enter Math Subject Marks 78\n",
      "Enter Physics Subject Marks 87\n",
      "Enter Computer Subject Marks 67\n",
      "Your Total Marks is 419 your total marks is  You secured A* Grade\n"
     ]
    }
   ],
   "source": [
    "print (\"~ Online Python Course Marks Sheet ~\")\n",
    "print (\"Please Insert Marks out of 100 \")\n",
    "eng = int(input(\"Enter English Subject Marks \"))\n",
    "urdu = int(input(\"Enter Urdu Subject Marks \"))\n",
    "math = int(input(\"Enter Math Subject Marks \"))\n",
    "phy = int(input(\"Enter Physics Subject Marks \"))\n",
    "com = int(input(\"Enter Computer Subject Marks \"))\n",
    "total = eng + urdu + math + phy + com\n",
    "per = float(total/500)*100\n",
    "if per > 100:\n",
    "    print (\"Error! you must have Entered wrong marks\")\n",
    "elif per >= 80:\n",
    "    print (\"Your Total Marks is \" + str(total) + \" your total marks is \" + \" You secured A* Grade\")\n",
    "elif per < 80 and per >= 70:\n",
    "    print (\"Your Total Marks is \" + str(total) + \" your total marks is \" + \" You secured A Grade\")\n",
    "elif per < 70 and per >= 60:\n",
    "    print (\"Your Total Marks is \" + str(total) + \" your total marks is \" + \" You secured A Grade\")\n",
    "elif per < 60 and per >= 50:\n",
    "    print (\"Your Total Marks is \" + str(total) + \" your total marks is \" + \" You secured B Grade\")\n",
    "elif per < 50 and per >= 50:\n",
    "    print (\"Your Total Marks is \" + str(total) + \" your total marks is \" + \" You secured C Grade\")\n",
    "elif per < 40 and per >= 30:\n",
    "    print (\"Your Total Marks is \" + str(total) + \" your total marks is \" + \" You secured D Grade\")\n",
    "elif per < 30:\n",
    "    print (\"Your Total Marks is \" + str(total) + \" your total marks is \" + \" You did not clear your exams\")\n",
    "    "
   ]
  },
  {
   "cell_type": "code",
   "execution_count": 7,
   "metadata": {},
   "outputs": [
    {
     "name": "stdout",
     "output_type": "stream",
     "text": [
      "Please Enter a Integer Number 1\n",
      "1 is a Odd Number\n"
     ]
    }
   ],
   "source": [
    "# Indentifying the Odd and Even Numbers\n",
    "a = int(input(\"Please Enter a Integer Number \"))\n",
    "b = 2\n",
    "c = a % b\n",
    "if c == 0:\n",
    "    print (str(a) + \" is a Even Number\")\n",
    "else:\n",
    "    print (str(a) + \" is a Odd Number\")"
   ]
  },
  {
   "cell_type": "code",
   "execution_count": 13,
   "metadata": {},
   "outputs": [
    {
     "name": "stdout",
     "output_type": "stream",
     "text": [
      "11\n"
     ]
    }
   ],
   "source": [
    "# print length of List\n",
    "a = [1,3,4,9,1,3,7,1,7,3,1]\n",
    "b = len(a)\n",
    "print (b)"
   ]
  },
  {
   "cell_type": "code",
   "execution_count": 3,
   "metadata": {},
   "outputs": [
    {
     "name": "stdout",
     "output_type": "stream",
     "text": [
      "List values [1, 2, 3, 4, 5, 6]\n",
      "21\n"
     ]
    }
   ],
   "source": [
    "# sum all numeric values in list\n",
    "templist = [1, 2, 3, 4, 5, 6]\n",
    "print (\"List values\", str(templist))\n",
    "r = 0\n",
    "for item in templist:\n",
    "    r += (item)\n",
    "print (r)"
   ]
  },
  {
   "cell_type": "code",
   "execution_count": 1,
   "metadata": {},
   "outputs": [
    {
     "name": "stdout",
     "output_type": "stream",
     "text": [
      "65\n"
     ]
    }
   ],
   "source": [
    "# Printing max value\n",
    "list1 = [1,2,4,5,3,8,10,12,14,65,8,9,0]\n",
    "b = max(list1)\n",
    "print (b)"
   ]
  },
  {
   "cell_type": "code",
   "execution_count": 19,
   "metadata": {},
   "outputs": [
    {
     "name": "stdout",
     "output_type": "stream",
     "text": [
      "List Values:  [1, 1, 2, 3, 5, 8, 13, 21, 34, 55, 89]\n",
      "1\n",
      "1\n",
      "2\n",
      "3\n"
     ]
    }
   ],
   "source": [
    "# print less than 5 values\n",
    "a = [1, 1, 2, 3, 5, 8, 13, 21, 34, 55, 89]\n",
    "print (\"List Values: \", str(a))\n",
    "e = len(a)\n",
    "for x in range(e):\n",
    "    if a[x]<5:\n",
    "        print (a[x])"
   ]
  }
 ],
 "metadata": {
  "kernelspec": {
   "display_name": "Python 3",
   "language": "python",
   "name": "python3"
  },
  "language_info": {
   "codemirror_mode": {
    "name": "ipython",
    "version": 3
   },
   "file_extension": ".py",
   "mimetype": "text/x-python",
   "name": "python",
   "nbconvert_exporter": "python",
   "pygments_lexer": "ipython3",
   "version": "3.7.4"
  }
 },
 "nbformat": 4,
 "nbformat_minor": 2
}
